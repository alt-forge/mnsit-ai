{
 "cells": [
  {
   "cell_type": "code",
   "execution_count": 31,
   "id": "988ccbae-dd43-41f1-8767-1667813d120a",
   "metadata": {},
   "outputs": [
    {
     "name": "stdout",
     "output_type": "stream",
     "text": [
      "[[0.93838229 0.87282625]\n",
      " [0.63733208 0.57655272]\n",
      " [0.65768114 0.13459419]]\n",
      "[[0.83507476]\n",
      " [0.69152515]]\n",
      "[4459.63320204]\n"
     ]
    }
   ],
   "source": [
    "import numpy as np\n",
    "input1 = np.array([2,2,98])\n",
    "while True:   \n",
    "    weight1 = np.random.random((3,2))\n",
    "    input2 = input1.dot(weight1)\n",
    "    weight2 = np.random.random((2,1))\n",
    "    goal_pred = 0.8\n",
    "    pred = input2.dot(weight2)\n",
    "    error = (goal_pred - pred)**2\n",
    "    if error < 1:\n",
    "        print(weight1)\n",
    "        print(weight2)\n",
    "        print(error)\n",
    "        break\n"
   ]
  },
  {
   "cell_type": "code",
   "execution_count": null,
   "id": "9c816a9a-abcb-4494-9bb3-c0a5f18862d8",
   "metadata": {},
   "outputs": [],
   "source": []
  },
  {
   "cell_type": "code",
   "execution_count": null,
   "id": "64ad5bbf-40f3-462e-8106-2fdc4a8599fd",
   "metadata": {},
   "outputs": [],
   "source": []
  }
 ],
 "metadata": {
  "kernelspec": {
   "display_name": "Python 3 (ipykernel)",
   "language": "python",
   "name": "python3"
  },
  "language_info": {
   "codemirror_mode": {
    "name": "ipython",
    "version": 3
   },
   "file_extension": ".py",
   "mimetype": "text/x-python",
   "name": "python",
   "nbconvert_exporter": "python",
   "pygments_lexer": "ipython3",
   "version": "3.13.5"
  }
 },
 "nbformat": 4,
 "nbformat_minor": 5
}
